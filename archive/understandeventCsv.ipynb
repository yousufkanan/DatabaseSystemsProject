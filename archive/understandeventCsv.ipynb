{
 "cells": [
  {
   "cell_type": "code",
   "execution_count": 44,
   "metadata": {},
   "outputs": [
    {
     "name": "stdout",
     "output_type": "stream",
     "text": [
      "['Event Name', 'Event Date', 'Result', 'Fighter1', 'Fighter2', 'KD', 'Strikes', 'TD', 'Sub', 'Weight Class', 'Method', 'Round', 'Time']\n"
     ]
    }
   ],
   "source": [
    "import csv\n",
    "import calendar\n",
    "# Read in the file\n",
    "file_data = open('ufc_event_data.csv', 'r')\n",
    "reader = csv.reader(file_data)\n",
    "reader = list(reader)\n",
    "print(reader[0])\n",
    "#skip header\n",
    "reader = reader[1:]\n",
    "for i in reader:\n",
    "    #Change date to datetime\n",
    "    date_list = i[1].split(' ')\n",
    "    date_list[1] = date_list[1][:-1]\n",
    "\n",
    "    date_list[0] , date_list[1] , date_list[2] = date_list[2] , date_list[0] , date_list[1]\n",
    "    date_list[1] = str(list(calendar.month_name).index(date_list[1]))\n",
    "    date_converted = '/'.join(date_list)\n",
    "    i[1] = date_converted\n",
    "\n"
   ]
  }
 ],
 "metadata": {
  "kernelspec": {
   "display_name": "Python 3",
   "language": "python",
   "name": "python3"
  },
  "language_info": {
   "codemirror_mode": {
    "name": "ipython",
    "version": 3
   },
   "file_extension": ".py",
   "mimetype": "text/x-python",
   "name": "python",
   "nbconvert_exporter": "python",
   "pygments_lexer": "ipython3",
   "version": "3.12.0"
  }
 },
 "nbformat": 4,
 "nbformat_minor": 2
}
