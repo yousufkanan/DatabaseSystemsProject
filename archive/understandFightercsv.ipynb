{
 "cells": [
  {
   "cell_type": "code",
   "execution_count": 9,
   "metadata": {},
   "outputs": [],
   "source": [
    "def feet_and_inches_to_inches(height_str):\n",
    "    feet, inches = map(int, height_str.replace('\"', '').split(\"'\"))\n",
    "    total_inches = feet * 12 + inches\n",
    "    return total_inches\n"
   ]
  },
  {
   "cell_type": "code",
   "execution_count": 10,
   "metadata": {},
   "outputs": [
    {
     "name": "stdout",
     "output_type": "stream",
     "text": [
      "5' 5\" is equal to 65 inches.\n"
     ]
    }
   ],
   "source": [
    "\n",
    "height_str = '5\\' 5\"'\n",
    "height_inches = feet_and_inches_to_inches(height_str)\n",
    "print(f\"{height_str} is equal to {height_inches} inches.\")\n"
   ]
  },
  {
   "cell_type": "code",
   "execution_count": 11,
   "metadata": {},
   "outputs": [],
   "source": [
    "#Read ufc_fighters csv\n",
    "import csv\n",
    "file = open('ufc_fighters.csv')\n",
    "ufc_fighters = list(csv.DictReader(file))\n",
    "\n",
    "ufc_fighters\n",
    "\n",
    "#Convert height to inches\n",
    "for fighter in ufc_fighters:\n",
    "    if fighter['Height'] != '--':\n",
    "        fighter['Height'] = feet_and_inches_to_inches(fighter['Height'])    \n",
    "#Remove lbs from weight\n",
    "for fighter in ufc_fighters:\n",
    "    if fighter['Weight'] != '--':\n",
    "        fighter['Weight'] = fighter['Weight'].replace(' lbs.', '')\n",
    "\n",
    "#If nickname is empty set to NULL\n",
    "for fighter in ufc_fighters:\n",
    "    if fighter['Nickname'] == '':\n",
    "        fighter['Nickname'] = 'NULL'\n",
    "    if fighter[\"Height\"] == '--':\n",
    "        fighter[\"Height\"] = 'NULL'\n",
    "    if fighter[\"Weight\"] == '--':\n",
    "        fighter[\"Weight\"] = 'NULL'\n",
    "    if fighter[\"Reach\"] == '--':\n",
    "        fighter[\"Reach\"] = 'NULL'\n",
    "    if fighter[\"Stance\"] == '':\n",
    "        fighter[\"Stance\"] = 'NULL'\n",
    "\n",
    "\n",
    "#convert file to csv\n",
    "keys = ufc_fighters[0].keys()\n",
    "with open('AlteredFightersData.csv', 'w', newline='')  as output_file:\n",
    "    dict_writer = csv.DictWriter(output_file, keys)\n",
    "    dict_writer.writeheader()\n",
    "    dict_writer.writerows(ufc_fighters)"
   ]
  },
  {
   "cell_type": "code",
   "execution_count": null,
   "metadata": {},
   "outputs": [],
   "source": []
  }
 ],
 "metadata": {
  "kernelspec": {
   "display_name": "Python 3",
   "language": "python",
   "name": "python3"
  },
  "language_info": {
   "codemirror_mode": {
    "name": "ipython",
    "version": 3
   },
   "file_extension": ".py",
   "mimetype": "text/x-python",
   "name": "python",
   "nbconvert_exporter": "python",
   "pygments_lexer": "ipython3",
   "version": "3.12.0"
  }
 },
 "nbformat": 4,
 "nbformat_minor": 2
}
